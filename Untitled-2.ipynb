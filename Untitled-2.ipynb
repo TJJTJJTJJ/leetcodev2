{
 "cells": [
  {
   "cell_type": "code",
   "execution_count": 1,
   "metadata": {},
   "outputs": [],
   "source": [
    "import time\n",
    "import concurrent.futures\n",
    "import random\n",
    "import datetime\n",
    "from multiprocessing import Pool"
   ]
  },
  {
   "cell_type": "code",
   "execution_count": 6,
   "metadata": {},
   "outputs": [
    {
     "name": "stdout",
     "output_type": "stream",
     "text": [
      "low:  [1, 1, 1, 3]\n",
      "col:  [1, 1, 1, 1]\n"
     ]
    }
   ],
   "source": [
    "\n",
    "tot=0\n",
    "cnt=0\n",
    "n = 4\n",
    "vis = [0 for _ in range(n)]\n",
    "dfn = [0 for _ in range(n)]\n",
    "low = [0 for _ in range(n)]\n",
    "col = [0 for _ in range(n)]\n",
    "graph = {0:[1], 1:[2, 3], 2:[0], 3:[2]}\n",
    "stack = list()\n",
    "def tarjan(x):\n",
    "    vis[x] = 1\n",
    "    global tot\n",
    "    global cnt\n",
    "    tot+=1\n",
    "    dfn[x], low[x] = tot, tot\n",
    "    stack.append(x)\n",
    "    for y in graph[x]:\n",
    "        # y 没有访问过\n",
    "        if dfn[y]==0:\n",
    "            tarjan(y)\n",
    "            low[x] = min(low[x], low[y])\n",
    "        # y访问过，在栈中，y在搜索路径上\n",
    "        elif vis[y]==1:\n",
    "            low[x] = min(low[x], dfn[y])\n",
    "        # y访问过，但是不在栈中，比如通过割边连接的两个联通分量，y不在搜索路径上，表示已经从图中删除，跳过\n",
    "    # 判断是否是强连通分量的根\n",
    "    if dfn[x]==low[x]:\n",
    "        cnt+=1 # 强连通分量个数\n",
    "        # 弹出搜索路径上的所有点\n",
    "        while True:\n",
    "            y = stack.pop()\n",
    "            vis[y] = 0\n",
    "            col[y] = cnt # 保存成相同的强连通分量个数\n",
    "            if x==y:\n",
    "                break\n",
    "tarjan(0)\n",
    "print(\"low: \", low)\n",
    "print(\"col: \", col)"
   ]
  },
  {
   "cell_type": "code",
   "execution_count": 8,
   "metadata": {},
   "outputs": [
    {
     "data": {
      "text/plain": [
       "3294967296"
      ]
     },
     "execution_count": 8,
     "metadata": {},
     "output_type": "execute_result"
    }
   ],
   "source": [
    "2**32-10**9"
   ]
  },
  {
   "cell_type": "code",
   "execution_count": null,
   "metadata": {},
   "outputs": [],
   "source": []
  }
 ],
 "metadata": {
  "interpreter": {
   "hash": "b1350992d8c4764d0b1a7c9fe7fa573a7d23cd60935f557eacc9eb4ce49243c8"
  },
  "kernelspec": {
   "display_name": "Python 3 (ipykernel)",
   "language": "python",
   "name": "python3"
  },
  "language_info": {
   "codemirror_mode": {
    "name": "ipython",
    "version": 3
   },
   "file_extension": ".py",
   "mimetype": "text/x-python",
   "name": "python",
   "nbconvert_exporter": "python",
   "pygments_lexer": "ipython3",
   "version": "3.9.7"
  }
 },
 "nbformat": 4,
 "nbformat_minor": 2
}
