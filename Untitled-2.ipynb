{
 "cells": [
  {
   "cell_type": "code",
   "execution_count": null,
   "metadata": {},
   "outputs": [],
   "source": [
    "import time\n",
    "import concurrent.futures\n",
    "import random\n",
    "import datetime\n",
    "from multiprocessing import Pool"
   ]
  },
  {
   "cell_type": "code",
   "execution_count": null,
   "metadata": {},
   "outputs": [
    {
     "name": "stdout",
     "output_type": "stream",
     "text": [
      "low:  [1, 1, 1, 3]\n",
      "col:  [1, 1, 1, 1]\n"
     ]
    }
   ],
   "source": [
    "\n",
    "tot=0\n",
    "cnt=0\n",
    "n = 4\n",
    "vis = [0 for _ in range(n)]\n",
    "dfn = [0 for _ in range(n)]\n",
    "low = [0 for _ in range(n)]\n",
    "col = [0 for _ in range(n)]\n",
    "graph = {0:[1], 1:[2, 3], 2:[0], 3:[2]}\n",
    "stack = list()\n",
    "def tarjan(x):\n",
    "    vis[x] = 1\n",
    "    global tot\n",
    "    global cnt\n",
    "    tot+=1\n",
    "    dfn[x], low[x] = tot, tot\n",
    "    stack.append(x)\n",
    "    for y in graph[x]:\n",
    "        # y 没有访问过\n",
    "        if dfn[y]==0:\n",
    "            tarjan(y)\n",
    "            low[x] = min(low[x], low[y])\n",
    "        # y访问过，在栈中，y在搜索路径上\n",
    "        elif vis[y]==1:\n",
    "            low[x] = min(low[x], dfn[y])\n",
    "        # y访问过，但是不在栈中，比如通过割边连接的两个联通分量，y不在搜索路径上，表示已经从图中删除，跳过\n",
    "    # 判断是否是强连通分量的根\n",
    "    if dfn[x]==low[x]:\n",
    "        cnt+=1 # 强连通分量个数\n",
    "        # 弹出搜索路径上的所有点\n",
    "        while True:\n",
    "            y = stack.pop()\n",
    "            vis[y] = 0\n",
    "            col[y] = cnt # 保存成相同的强连通分量个数\n",
    "            if x==y:\n",
    "                break\n",
    "tarjan(0)\n",
    "print(\"low: \", low)\n",
    "print(\"col: \", col)\n",
    "\n",
    "\n",
    "\n"
   ]
  },
  {
   "cell_type": "code",
   "execution_count": 48,
   "metadata": {},
   "outputs": [
    {
     "name": "stdout",
     "output_type": "stream",
     "text": [
      "100\n",
      "-4294967196\n"
     ]
    }
   ],
   "source": [
    "def abs(num):\n",
    "    max_1 = 0x80000000\n",
    "    max_32 = 0xFFFFFFFF \n",
    "    num = num & max_32 # 做了32位的截断\n",
    "    sign = (num >>31) & 1 # 获取符号位\n",
    "    num = num - sign\n",
    "    num = num ^ (max_32 * sign) # 如果不做截断，对于-100，11111 与 0000做异或还是1，表示负数\n",
    "    return num \n",
    "\n",
    "print(abs(100))\n",
    "print(abs(-100))"
   ]
  },
  {
   "cell_type": "code",
   "execution_count": 46,
   "metadata": {},
   "outputs": [
    {
     "data": {
      "text/plain": [
       "1"
      ]
     },
     "execution_count": 46,
     "metadata": {},
     "output_type": "execute_result"
    }
   ],
   "source": [
    "( -100 >>32 ) & 1"
   ]
  },
  {
   "cell_type": "code",
   "execution_count": 26,
   "metadata": {},
   "outputs": [
    {
     "data": {
      "text/plain": [
       "4294967296"
      ]
     },
     "execution_count": 26,
     "metadata": {},
     "output_type": "execute_result"
    }
   ],
   "source": [
    "-100 & max_1"
   ]
  },
  {
   "cell_type": "code",
   "execution_count": 27,
   "metadata": {},
   "outputs": [
    {
     "data": {
      "text/plain": [
       "0"
      ]
     },
     "execution_count": 27,
     "metadata": {},
     "output_type": "execute_result"
    }
   ],
   "source": [
    "100 & max_1"
   ]
  },
  {
   "cell_type": "code",
   "execution_count": 28,
   "metadata": {},
   "outputs": [
    {
     "data": {
      "text/plain": [
       "'0b100000000000000000000000000000000'"
      ]
     },
     "execution_count": 28,
     "metadata": {},
     "output_type": "execute_result"
    }
   ],
   "source": [
    "bin(-100 & max_1)"
   ]
  },
  {
   "cell_type": "code",
   "execution_count": 31,
   "metadata": {},
   "outputs": [
    {
     "data": {
      "text/plain": [
       "0"
      ]
     },
     "execution_count": 31,
     "metadata": {},
     "output_type": "execute_result"
    }
   ],
   "source": [
    "(100 & max_1)>>32"
   ]
  },
  {
   "cell_type": "code",
   "execution_count": 39,
   "metadata": {},
   "outputs": [
    {
     "name": "stdout",
     "output_type": "stream",
     "text": [
      "0o12\n"
     ]
    }
   ],
   "source": [
    "print(oct(10))"
   ]
  },
  {
   "cell_type": "code",
   "execution_count": 42,
   "metadata": {},
   "outputs": [
    {
     "name": "stdout",
     "output_type": "stream",
     "text": [
      "2147483648\n"
     ]
    }
   ],
   "source": [
    "a = 0x80000000\n",
    "print(a)"
   ]
  },
  {
   "cell_type": "code",
   "execution_count": 43,
   "metadata": {},
   "outputs": [
    {
     "data": {
      "text/plain": [
       "2147483648"
      ]
     },
     "execution_count": 43,
     "metadata": {},
     "output_type": "execute_result"
    }
   ],
   "source": [
    "1<<31"
   ]
  },
  {
   "cell_type": "code",
   "execution_count": null,
   "metadata": {},
   "outputs": [],
   "source": []
  }
 ],
 "metadata": {
  "kernelspec": {
   "display_name": "Python 3.9.7 ('base')",
   "language": "python",
   "name": "python3"
  },
  "language_info": {
   "codemirror_mode": {
    "name": "ipython",
    "version": 3
   },
   "file_extension": ".py",
   "mimetype": "text/x-python",
   "name": "python",
   "nbconvert_exporter": "python",
   "pygments_lexer": "ipython3",
   "version": "3.9.7"
  },
  "vscode": {
   "interpreter": {
    "hash": "ad2bdc8ecc057115af97d19610ffacc2b4e99fae6737bb82f5d7fb13d2f2c186"
   }
  }
 },
 "nbformat": 4,
 "nbformat_minor": 2
}
